{
 "cells": [
  {
   "cell_type": "markdown",
   "id": "ac5eaa32",
   "metadata": {},
   "source": [
    "#  Scaden-methylation Example"
   ]
  },
  {
   "cell_type": "markdown",
   "id": "ea6457ee-4b3a-4ea1-90df-190264aca1e6",
   "metadata": {},
   "source": [
    "## scMethyl Dataset"
   ]
  },
  {
   "cell_type": "markdown",
   "id": "9935fabf-a638-4de2-9daa-3dde6cb0aa31",
   "metadata": {},
   "source": [
    "Before we can start using the pipeline, the scaden pipeline has 2 required parts:\n",
    "- A scMethyl-seq dataset (or a methylation array to simulate a dataset).\n",
    "- A testing file that we want to perform deconvolution on.\n",
    "\n",
    "There may be other required files, depending on which steps of the pipeline we want to run.\n",
    "\n",
    "The methylation dataset can be supplied in two ways:\n",
    "- If we want to use a scMethyl-seq dataset, it should be formatted like the [original scaden](https://scaden.readthedocs.io/en/latest/usage.html#bulk-simulation). \n",
    "- If we want to use a methylation array, we can a script to simulate a scMethyl-seq dataset with the proper formatting."
   ]
  },
  {
   "cell_type": "markdown",
   "id": "07a8c3a9",
   "metadata": {},
   "source": [
    "### Generating a data set from a methylation array"
   ]
  },
  {
   "cell_type": "markdown",
   "id": "a557226f-b2f4-49af-bc3c-d9c2b0738275",
   "metadata": {},
   "source": [
    "We are starting with a methylation array for various leukocytes."
   ]
  },
  {
   "cell_type": "code",
   "execution_count": 1,
   "id": "f0b0ab9b-ecc8-4b9e-b2ad-0a7ecf155106",
   "metadata": {},
   "outputs": [
    {
     "name": "stdout",
     "output_type": "stream",
     "text": [
      "\tBas\tBmem\tBn\tCD4mem\tCD4nv\tTem\tTn\tEOS\tMono\tNeu\tNK\tTreg\n",
      "cg23788058\t0.796\t0.919\t0.94\t0.869\t0.285\t0.897\t0.693\t0.437\t0.949\t0.919\t0.94\t0.9\n",
      "cg21091766\t0.672\t0.688\t0.858\t0.874\t0.936\t0.458\t0.322\t0.583\t0.811\t0.697\t0.739\t0.872\n",
      "cg16596052\t0.886\t0.876\t0.888\t0.833\t0.591\t0.826\t0.116\t0.901\t0.936\t0.914\t0.922\t0.858\n",
      "cg21782213\t0.931\t0.942\t0.945\t0.828\t0.314\t0.935\t0.934\t0.943\t0.953\t0.953\t0.949\t0.919\n",
      "cg15213052\t0.952\t0.947\t0.949\t0.939\t0.891\t0.935\t0.346\t0.96\t0.968\t0.965\t0.841\t0.949\n",
      "cg17458390\t0.073\t0.101\t0.077\t0.068\t0.184\t0.114\t0.692\t0.06\t0.055\t0.051\t0.072\t0.077\n",
      "cg19850895\t0.946\t0.914\t0.94\t0.925\t0.934\t0.869\t0.426\t0.929\t0.96\t0.924\t0.908\t0.946\n",
      "cg27225309\t0.079\t0.922\t0.585\t0.748\t0.266\t0.518\t0.347\t0.071\t0.351\t0.29\t0.186\t0.179\n",
      "cg17518643\t0.941\t0.947\t0.954\t0.581\t0.245\t0.887\t0.791\t0.583\t0.929\t0.909\t0.91\t0.719\n",
      "cg12043508\t0.79\t0.771\t0.881\t0.909\t0.916\t0.881\t0.453\t0.833\t0.823\t0.802\t0.724\t0.923\n",
      "cg20813776\t0.94\t0.925\t0.931\t0.89\t0.937\t0.386\t0.91\t0.929\t0.937\t0.923\t0.848\t0.924\n",
      "cg00267793\t0.149\t0.927\t0.921\t0.916\t0.92\t0.921\t0.92\t0.921\t0.939\t0.937\t0.933\t0.9\n",
      "cg17491554\t0.918\t0.061\t0.849\t0.793\t0.943\t0.772\t0.941\t0.946\t0.941\t0.948\t0.903\t0.812\n",
      "cg02053685\t0.893\t0.865\t0.875\t0.848\t0.816\t0.907\t0.477\t0.936\t0.933\t0.924\t0.726\t0.936\n"
     ]
    }
   ],
   "source": [
    "!head -n 15 ~/example/sig.tsv"
   ]
  },
  {
   "cell_type": "markdown",
   "id": "8d32b1d0-8728-45bd-b0d6-7e4a427a2124",
   "metadata": {},
   "source": [
    "We can simulate a scMethyl-seq dataset by sampling from this array."
   ]
  },
  {
   "cell_type": "code",
   "execution_count": 2,
   "id": "759ca2e8-2176-446e-86e6-48c047cc8db3",
   "metadata": {},
   "outputs": [
    {
     "name": "stdout",
     "output_type": "stream",
     "text": [
      "Created files '~/example/data_counts.txt' and '~/example/data_celltypes.txt'\n"
     ]
    }
   ],
   "source": [
    "!python ~/array_to_sc.py -s 100 -r 2 -o '~/example/data' ~/example/sig.tsv"
   ]
  },
  {
   "cell_type": "markdown",
   "id": "dc004cbc-73ee-4c41-81a3-4fb938db9dea",
   "metadata": {},
   "source": [
    "This script samples each value in the table from a binomial distribution with 1 trial and uses the value as the probability.\n",
    "The number of successes (0 or 1) is used as the corresponding value in the scMethyl-seq dataset.\n",
    "The arguments used are:\n",
    "- `-r`: By setting this to 2, we sampled each cell type 2 times. Higher values generally give better results.\n",
    "- `-s`: Numpy random generator seed for reproducibility.\n",
    "- `-o`: Set the name and location of the output files."
   ]
  },
  {
   "cell_type": "code",
   "execution_count": 3,
   "id": "6a237a15-5def-49a9-9b3e-cf51091bc085",
   "metadata": {},
   "outputs": [
    {
     "name": "stdout",
     "output_type": "stream",
     "text": [
      "Celltype\n",
      "Bas\n",
      "Bas\n",
      "Bmem\n",
      "Bmem\n",
      "Bn\n",
      "Bn\n",
      "CD4mem\n",
      "CD4mem\n",
      "CD4nv\n",
      "CD4nv\n",
      "Tem\n",
      "Tem\n",
      "Tn\n",
      "Tn\n",
      "EOS\n",
      "EOS\n",
      "Mono\n",
      "Mono\n",
      "Neu\n",
      "Neu\n",
      "NK\n",
      "NK\n",
      "Treg\n",
      "Treg\n"
     ]
    }
   ],
   "source": [
    "# Celltype labels file. Each cell type was sampled twice.\n",
    "!cat ~/example/data_celltypes.txt"
   ]
  },
  {
   "cell_type": "code",
   "execution_count": 4,
   "id": "b8f27038-2f76-4b69-b74d-e1015fab537e",
   "metadata": {},
   "outputs": [
    {
     "name": "stdout",
     "output_type": "stream",
     "text": [
      "\tcg23788058\tcg21091766\tcg16596052\tcg21782213\tcg15213052\tcg17458390\tcg19850895\n",
      "0\t0\t0\t1\t1\t1\t0\t1\n",
      "1\t1\t0\t1\t1\t1\t0\t1\n",
      "2\t1\t0\t1\t1\t1\t0\t1\n",
      "3\t1\t1\t1\t1\t0\t1\t1\n",
      "4\t0\t1\t1\t1\t1\t0\t1\n",
      "5\t1\t1\t1\t1\t1\t0\t1\n",
      "6\t1\t1\t1\t1\t1\t0\t1\n",
      "7\t0\t1\t1\t1\t1\t0\t1\n",
      "8\t0\t1\t0\t1\t1\t0\t1\n",
      "9\t0\t1\t1\t0\t1\t0\t1\n",
      "10\t0\t0\t1\t1\t1\t0\t0\n",
      "11\t1\t1\t1\t1\t1\t0\t1\n",
      "12\t1\t0\t0\t1\t1\t1\t0\n",
      "13\t1\t0\t0\t1\t1\t1\t1\n",
      "14\t1\t1\t1\t1\t1\t0\t1\n",
      "15\t0\t1\t1\t1\t1\t0\t1\n",
      "16\t0\t0\t1\t1\t1\t1\t1\n",
      "17\t1\t1\t1\t1\t1\t0\t1\n",
      "18\t1\t1\t1\t0\t1\t0\t1\n",
      "19\t1\t0\t1\t1\t1\t0\t1\n",
      "20\t0\t1\t1\t1\t1\t0\t1\n",
      "21\t0\t1\t1\t1\t0\t0\t1\n",
      "22\t1\t1\t1\t0\t0\t0\t1\n",
      "23\t1\t0\t1\t1\t1\t0\t1\n"
     ]
    }
   ],
   "source": [
    "# scMethyl-seq file, first 8 columns\n",
    "# The order of the cells here matches the order of the labels in the data_celltypes.txt file\n",
    "!cut -f 1-8 ~/example/data_counts.txt"
   ]
  },
  {
   "cell_type": "markdown",
   "id": "3da7b4aa-3af6-44b6-982d-a996816aebfc",
   "metadata": {},
   "source": [
    "## Using the pipeline"
   ]
  },
  {
   "cell_type": "markdown",
   "id": "0de59279-d825-452d-b4b8-95d0dd2c9487",
   "metadata": {},
   "source": [
    "There are 5 steps in the pipeline:\n",
    "1. Simulate training data from sc dataset\n",
    "2. Preprocess training data\n",
    "3. Train model\n",
    "4. Predict on testing data\n",
    "5. Evaluate predictions\n",
    "\n",
    "Each step has its own set of parameters that we'll explain below. \n",
    "To run the pipeline:\n",
    "- Save the parameters to a YAML file, then run `python main.py --load params.yaml` (Recommended)\n",
    "- Run `python main.py ...` with all the parameters as a single command."
   ]
  },
  {
   "cell_type": "markdown",
   "id": "e073711b-33ec-4c30-861e-def3e833515c",
   "metadata": {},
   "source": [
    "### Pipeline controls and logging"
   ]
  },
  {
   "attachments": {},
   "cell_type": "markdown",
   "id": "c8cecad8-e9c3-49eb-8439-b5dc0aa4835e",
   "metadata": {},
   "source": [
    "```\n",
    "  -load TEXT                 YAML file from which parameters are loaded\n",
    "  -all                       Run all steps of the pipeline (simulate, process,\n",
    "                             train, predict, evaluate)\n",
    "  -simulate                  Run scaden simulate\n",
    "  -process                   Run scaden process\n",
    "  -train                     Run scaden train\n",
    "  -predict                   Run scaden predict\n",
    "  -evaluate                  Run evaluation\n",
    "  --config TEXT              Name of configuration  [default: test]\n",
    "  --reference TEXT           Name of the scMethyl dataset  [default: 1]\n",
    "  --log_params               Create a json file recording the data and model\n",
    "                             hyperparameters  [default: True]\n",
    "  --seed INTEGER             Set random seed for simulation and training\n",
    "                             [default: 0]\n",
    "```\n",
    "\n",
    "For this example, we will go through all steps of the pipeline, so we can just use the `-all` flag. If we only want to run specific steps add each flag (e.g., `-predict -evaluate`) \n",
    "\n",
    "We can set some parameters for logging purposes. These parameters will appear in the output logs:\n",
    "- We'll name our entire configuration 'example': `--config example`\n",
    "- Our scMethyl-seq dataset will be called '2': `--reference 2`"
   ]
  },
  {
   "cell_type": "markdown",
   "id": "0bee5dba-1b14-49e1-a854-cdfb5e2a4a82",
   "metadata": {},
   "source": [
    "### Simulate"
   ]
  },
  {
   "attachments": {},
   "cell_type": "markdown",
   "id": "2061eeec-fd97-42fe-b880-491a6838ebc5",
   "metadata": {},
   "source": [
    "These parameters are the same as the original scaden.\n",
    "```\n",
    "  -o, --out TEXT             Directory to store output files in  [default: ./]\n",
    "  -d, --data TEXT            Path to scRNA-seq dataset(s)  [default: .]\n",
    "  -c, --cells INTEGER        Number of cells per sample  [default: 100]\n",
    "  -n, --n_samples INTEGER    Number of samples to simulate  [default: 1000]\n",
    "  --pattern TEXT             File pattern to recognize your processed scRNA-\n",
    "                             seq count files  [default: *_counts.txt]\n",
    "  -u, --unknown TEXT         Specifiy cell types to merge into the unknown\n",
    "                             category. Specify this flag for every cell type\n",
    "                             you want to merge in unknown.  [default: unknown]\n",
    "  -p, --prefix TEXT          Prefix to append to training .h5ad file\n",
    "                             [default: data]\n",
    "  -f, --data_format TEXT     Data format of scRNA-seq data, can be 'txt' or\n",
    "                             'h5ad'  [default: txt]\n",
    "\n",
    "```\n",
    "\n",
    "Here's what we'll use:\n",
    "- We previously created our scMethyl-seq dataset and stored it in '~/example', so that will be our data directory: `--data ~/example/`\n",
    "- Our simulated training data will be stored in the same directory: `--out ~/example/`\n",
    "- The training set will contain 1000 samples, each composed of 100 cells: `--cells 100 -n 1000`\n",
    "- The training set will be named 'example_data.h5ad': `--prefix example_data`"
   ]
  },
  {
   "cell_type": "markdown",
   "id": "dd581e4b-deef-4ad1-afd8-5ba8a2637489",
   "metadata": {},
   "source": [
    "## Preprocess"
   ]
  },
  {
   "cell_type": "markdown",
   "id": "ef2ece58-ddb6-4018-8c86-8885936a1e29",
   "metadata": {},
   "source": [
    "This step will take the training data from the previous step and do two things:\n",
    "1. Filter the dataset for CpGs that are found in both the training and testing data.\n",
    "2. Remove CpGs that have a variance below a specified cutoff.\n",
    "\n",
    "The testing data should be a text file with CpGs in the rows and samples in the columns.\n",
    "For example:"
   ]
  },
  {
   "cell_type": "code",
   "execution_count": 5,
   "id": "3844a59f-cc2e-4af1-b457-d30f7a7796eb",
   "metadata": {},
   "outputs": [
    {
     "name": "stdout",
     "output_type": "stream",
     "text": [
      "GSM5527895\tGSM5527896\tGSM5527897\tGSM5527898\tGSM5527899\tGSM5527900\tGSM5527901\tGSM5527902\n",
      "cg00000029\t0.607449765\t0.599892818\t0.586948371\t0.662251888\t0.617919828\t0.5502694\t0.598716073\n",
      "cg00000103\t0.870985191\t0.873235077\t0.819141453\t0.869163829\t0.875618429\t0.867616718\t0.884937108\n",
      "cg00000109\t0.876637041\t0.906080531\t0.879807632\t0.880013589\t0.884696543\t0.895972737\t0.894113656\n",
      "cg00000155\t0.910281129\t0.919300762\t0.903703837\t0.908400048\t0.916790017\t0.916586292\t0.913071893\n",
      "cg00000158\t0.943019832\t0.931720128\t0.933009266\t0.934164567\t0.936311936\t0.934337576\t0.93402081\n",
      "cg00000165\t0.126424477\t0.097055468\t0.10636477\t0.096476166\t0.112829813\t0.099359629\t0.104591041\n",
      "cg00000221\t0.778814475\t0.793399684\t0.758477645\t0.802238179\t0.77771085\t0.809475039\t0.80114129\n",
      "cg00000236\t0.885119026\t0.886765395\t0.873180177\t0.857155153\t0.873845184\t0.86456329\t0.828224726\n",
      "cg00000289\t0.596545843\t0.667087291\t0.584861367\t0.683017076\t0.632387672\t0.556214283\t0.658533953\n"
     ]
    }
   ],
   "source": [
    "!head -n 10 ~/example/testfile.tsv | cut -f 1-8"
   ]
  },
  {
   "attachments": {},
   "cell_type": "markdown",
   "id": "e585bcc2-6607-4ef6-bd19-0f8dcc2cc729",
   "metadata": {},
   "source": [
    "Now we'll set the parameters, which are the following:\n",
    "```\n",
    "  --pred TEXT                Bulk data file (i.e. testing set) that we want to\n",
    "                             perform deconvolution on\n",
    "  --training_data TEXT       Training dataset to be processed. Only use this\n",
    "                             if you are running 'scaden process' by itself.\n",
    "  --processed_path TEXT      Name of the file that the processed data will be\n",
    "                             saved to. Must end with .h5ad\n",
    "  --var_cutoff FLOAT         Filter out genes with a variance less than the\n",
    "                             specified cutoff. A low value is recommended,\n",
    "                             this should only remove genes that are obviously\n",
    "                             uninformative.  [default: 0.1]\n",
    "  --scaling TEXT             Change scaling option for preprocessing the\n",
    "                             training data. If something other than the\n",
    "                             provided options is used, then no scaling will be\n",
    "                             done. Options: None (No scaling), log /\n",
    "                             log_min_max (log2, then scale to the range 0,1),\n",
    "                             frac / fraction (Divide values by the number of\n",
    "                             cells)  [default: fraction]\n",
    "\n",
    "```\n",
    "The scaling option has 3 options:\n",
    "- None\n",
    "- log / log_min_max: log2, then scale to the range 0,1. \n",
    "    - This is the default option for RNA-seq data.\n",
    "- frac / fraction: Divide values by the total number of cells. \n",
    "    - This should be used with a simulated scMethyl-seq training set.\n",
    "\n",
    "The parameters that we will use are:\n",
    "- Test set that we want to perform deconvolution on: `--pred ~/example/testfile.tsv`\n",
    "- Fraction scaling, since we are dealing with methylation data: `--scaling frac`\n",
    "- We will assume that the CpGs in our basis methylation array are all important, so we don't want to remove any of them: `--var_cutoff 0`\n",
    "\n",
    "We don't need to specify `--training_data` since we are going through the entire pipeline and this will be handled automatically.\n",
    "\n",
    "If we want to change the name or location of the preprocessed training data, we would set `--processed_path`. By default, the output will be named 'processed.h5ad' and be in the directory previously specified in `--out`."
   ]
  },
  {
   "cell_type": "markdown",
   "id": "c200335f-94e3-4f64-a58f-52f18bb168f3",
   "metadata": {},
   "source": [
    "### Training"
   ]
  },
  {
   "attachments": {},
   "cell_type": "markdown",
   "id": "9b72550a-28ca-4c18-8e76-e694b90f93e2",
   "metadata": {},
   "source": [
    "```\n",
    "  --train_datasets TEXT      Comma-separated list of datasets used for\n",
    "                             training. Uses all by default.\n",
    "  --model_dir TEXT           Path to store the model in  [default: ./]\n",
    "  --batch_size INTEGER       Batch size to use for training.  [default: 128]\n",
    "  --learning_rate FLOAT      Learning rate used for training.  [default:\n",
    "                             0.0001]\n",
    "  --steps INTEGER            Number of training steps.  [default: 5000]\n",
    "  --loss_values TEXT         Name of file to save text file of loss values\n",
    "  --loss_curve TEXT          Name of file to save line plot figure of loss\n",
    "                             values\n",
    "\n",
    "```"
   ]
  },
  {
   "cell_type": "markdown",
   "id": "6879db4e-db68-48f5-b974-28376d73d5a6",
   "metadata": {},
   "source": [
    "If we skipped the simulation and processing steps because we already had a processed training data set, it must be specified using the `--processed_path` parameter.\n",
    "Otherwise, the pipeline will automatically use the outputs from the previous steps.\n",
    "\n",
    "Now for our parameters:\n",
    "- Our model will be stored in the specified directory: `--model_dir ~/example/model/`\n",
    "- Model training hyperparameters: `--batch_size 256 --learning_rate 0.0001 --steps 1000 --seed 100`\n",
    "- View the loss curve: `--loss_values ~/example/loss_values.tsv --loss_curve ~/example/loss_curve.png`"
   ]
  },
  {
   "cell_type": "markdown",
   "id": "f5d71e3d-44bf-47d7-a762-d4175ac10ed8",
   "metadata": {},
   "source": [
    "## Predict"
   ]
  },
  {
   "attachments": {},
   "cell_type": "markdown",
   "id": "7c513ad8-2351-470b-969c-10335a19a930",
   "metadata": {},
   "source": [
    "```\n",
    "  --prediction_outname TEXT  Name of predictions file  [default:\n",
    "                             scaden_predictions.txt]\n",
    "  --prediction_scaling TEXT  Change scaling option for the preprocessing done\n",
    "                             when making predictions. Uses the same options as\n",
    "                             --scaling.  [default: fraction]\n",
    "```\n",
    "\n",
    "Uses the trained model on the testing data set to predict the cell type proportions. Outputs results to a text file.\n",
    "\n",
    "Parameters:\n",
    "- Name of the output text file: `--prediction_outname ~/example/test_predictions.txt`\n",
    "- Scaling to apply to the testing data. If this data is a methylation array, don't use any scaling: `--prediction_scaling None`"
   ]
  },
  {
   "cell_type": "markdown",
   "id": "9bffc25a-b439-4c74-8bf0-19f4f4814f27",
   "metadata": {},
   "source": [
    "## Evaluate"
   ]
  },
  {
   "cell_type": "markdown",
   "id": "b7fb828f-db04-4e73-87ae-0850ded3f69d",
   "metadata": {},
   "source": [
    "```\n",
    "  --ground_truth TEXT        Name of file containing the ground truth cell\n",
    "                             proportions\n",
    "```\n",
    "Calculate the correlation coefficients between the predictions and a table containing the ground truth proportions.\n",
    "Outputs a json file that shows for each cell type:\n",
    "- The predicted cell type that has the highest correlation\n",
    "- The correlation coefficient\n",
    "- The mean squared error for the the best correlated cell type.\n",
    "\n",
    "Our ground truth proportions file: `--ground_truth ~/example/test_proportions.tsv`\n",
    "\n",
    "The ground truth proportions should be a table where the columns are cell types and the rows are samples:"
   ]
  },
  {
   "cell_type": "code",
   "execution_count": 6,
   "id": "b1a589fe-c57e-42e8-a47e-68b71894d67d",
   "metadata": {},
   "outputs": [
    {
     "name": "stdout",
     "output_type": "stream",
     "text": [
      "bas\tbmem\tbnv\tcd4mem\tcd4nv\tcd8mem\tcd8nv\teos\tmono\tneu\tnk\ttreg\n",
      "GSM5527895\t13.14\t13.26\t6.53\t10.08\t4.47\t10.95\t5.99\t9.01\t6.89\t3.02\t6.36\t10.28\n",
      "GSM5527896\t11.54\t8.6\t6.71\t8.65\t8.14\t9.13\t6.16\t8.62\t3.72\t8.63\t8.43\t11.67\n",
      "GSM5527897\t8.75\t11.12\t3.68\t21.32\t10.16\t11.84\t2.8\t5.05\t3.92\t3.57\t5.14\t12.68\n",
      "GSM5527898\t8.53\t7.2\t18.76\t4.75\t7.9\t9.76\t14.75\t7.05\t5.78\t3.92\t7.35\t4.24\n",
      "GSM5527899\t6.98\t5.22\t5.16\t6.04\t7.61\t8.29\t8.19\t5.12\t8.09\t8.28\t22.23\t8.79\n",
      "GSM5527900\t9.42\t12.49\t7.14\t8.11\t5.07\t4.9\t6.82\t10.43\t4.96\t15.74\t9.71\t5.21\n",
      "GSM5527901\t2.29\t7.85\t6.46\t8.54\t9.55\t9.55\t9.99\t11.26\t13.28\t9.18\t4.52\t7.51\n",
      "GSM5527902\t5.56\t5.37\t7.58\t6.23\t4.18\t5.06\t3.83\t7.97\t10.63\t15.69\t16.92\t10.97\n",
      "GSM5527903\t7.39\t7.84\t11.17\t14.13\t8.38\t6.5\t1.9\t10.29\t6.38\t13.74\t8.2\t4.08\n"
     ]
    }
   ],
   "source": [
    "!head ~/example/test_proportions.tsv"
   ]
  },
  {
   "cell_type": "markdown",
   "id": "2a965991-6400-42dd-b284-b9578196235d",
   "metadata": {},
   "source": [
    "## Putting everything together"
   ]
  },
  {
   "attachments": {},
   "cell_type": "markdown",
   "id": "fd31b16d",
   "metadata": {},
   "source": [
    "YAML file `params.yaml':\n",
    "```\n",
    "all: True\n",
    "config: example\n",
    "reference: \"2\"\n",
    "data: ~/example/\n",
    "out: ~/example/\n",
    "cells: 100\n",
    "n_samples: 1000\n",
    "prefix: example_data\n",
    "pred: ~/example/testfile.tsv\n",
    "scaling: frac\n",
    "var_cutoff: 0\n",
    "model_dir: ~/example/model/\n",
    "batch_size: 256\n",
    "learning_rate: 0.0001\n",
    "steps: 1000\n",
    "seed: 100\n",
    "prediction_outname: ~/example/test_predictions.txt\n",
    "prediction_scaling: None\n",
    "ground_truth: ~/example/test_proportions.tsv\n",
    "```\n",
    "\n",
    "Run: `python main.py -load params.yaml`"
   ]
  },
  {
   "attachments": {},
   "cell_type": "markdown",
   "id": "0b6c2b44-d024-47e4-8294-c07aeba60e0f",
   "metadata": {},
   "source": [
    "Command line only version:\n",
    "```\n",
    "python ~/ceph/scaden/pipeline/main.py \\\n",
    "-all \\\n",
    "--config example \\\n",
    "--reference 2 \\\n",
    "--data ~/example/ \\\n",
    "--out ~/example/ \\\n",
    "--cells 100 \\\n",
    "--n_samples 1000 \\\n",
    "--prefix example_data \\\n",
    "--pred ~/example/testfile.tsv \\\n",
    "--scaling frac \\\n",
    "--var_cutoff 0 \\\n",
    "--model_dir ~/example/model/ \\\n",
    "--batch_size 256 \\\n",
    "--learning_rate 0.0001 \\\n",
    "--steps 1000 \\\n",
    "--seed 100 \\\n",
    "--prediction_outname ~/example/test_predictions.txt \\\n",
    "--prediction_scaling None \\\n",
    "--ground_truth ~/example/test_proportions.tsv\n",
    "```"
   ]
  },
  {
   "cell_type": "markdown",
   "id": "ab7d8706-9f5e-4a08-b720-c898627757ff",
   "metadata": {},
   "source": [
    "## Example Run"
   ]
  },
  {
   "cell_type": "code",
   "execution_count": 7,
   "id": "3b47d775-5aa8-4b60-b4e3-2e0440c81926",
   "metadata": {},
   "outputs": [
    {
     "name": "stdout",
     "output_type": "stream",
     "text": [
      "\u001b[34m\n",
      "     ____                _            \n",
      "    / ___|  ___ __ _  __| | ___ _ __  \n",
      "    \\___ \\ / __/ _` |/ _` |/ _ \\ '_ \\ \n",
      "     ___) | (_| (_| | (_| |  __/ | | |\n",
      "    |____/ \\___\\__,_|\\__,_|\\___|_| |_|\n",
      "    \u001b[0m\n",
      "\u001b[34mINFO    \u001b[0m Note: NumExpr detected \u001b[1;36m40\u001b[0m cores but \u001b[32m\"NUMEXPR_MAX_THREADS\"\u001b[0m  \u001b]8;id=225493;file:///mnt/sw/nix/store/z6v265ivx5w6xbajay41vdfc0la8gla5-python-3.9.12-view/lib/python3.9/site-packages/numexpr/utils.py\u001b\\\u001b[2mutils.py\u001b[0m\u001b]8;;\u001b\\\u001b[2m:\u001b[0m\u001b]8;id=783232;file:///mnt/sw/nix/store/z6v265ivx5w6xbajay41vdfc0la8gla5-python-3.9.12-view/lib/python3.9/site-packages/numexpr/utils.py#145\u001b\\\u001b[2m145\u001b[0m\u001b]8;;\u001b\\\n",
      "         not set, so enforcing safe limit of \u001b[1;36m8\u001b[0m.                     \u001b[2m            \u001b[0m\n",
      "\u001b[34mINFO    \u001b[0m NumExpr defaulting to \u001b[1;36m8\u001b[0m threads.                           \u001b]8;id=101459;file:///mnt/sw/nix/store/z6v265ivx5w6xbajay41vdfc0la8gla5-python-3.9.12-view/lib/python3.9/site-packages/numexpr/utils.py\u001b\\\u001b[2mutils.py\u001b[0m\u001b]8;;\u001b\\\u001b[2m:\u001b[0m\u001b]8;id=162253;file:///mnt/sw/nix/store/z6v265ivx5w6xbajay41vdfc0la8gla5-python-3.9.12-view/lib/python3.9/site-packages/numexpr/utils.py#157\u001b\\\u001b[2m157\u001b[0m\u001b]8;;\u001b\\\n",
      "\u001b[34mINFO    \u001b[0m Datasets: \u001b[1;36m[\u001b[0m\u001b[32m'data'\u001b[0m\u001b[1;36m]\u001b[0m                                 \u001b]8;id=991167;file:///mnt/ceph/users/wkoh1/scaden/pipeline/bulk_simulator.py\u001b\\\u001b[2mbulk_simulator.py\u001b[0m\u001b]8;;\u001b\\\u001b[2m:\u001b[0m\u001b]8;id=706734;file:///mnt/ceph/users/wkoh1/scaden/pipeline/bulk_simulator.py#84\u001b\\\u001b[2m84\u001b[0m\u001b]8;;\u001b\\\n",
      "\u001b[34mINFO    \u001b[0m \u001b[1;4mSimulating data from data\u001b[0m                          \u001b]8;id=435778;file:///mnt/ceph/users/wkoh1/scaden/pipeline/bulk_simulator.py\u001b\\\u001b[2mbulk_simulator.py\u001b[0m\u001b]8;;\u001b\\\u001b[2m:\u001b[0m\u001b]8;id=596237;file:///mnt/ceph/users/wkoh1/scaden/pipeline/bulk_simulator.py#89\u001b\\\u001b[2m89\u001b[0m\u001b]8;;\u001b\\\n",
      "\u001b[34mINFO    \u001b[0m Loading \u001b[36mdata\u001b[0m dataset \u001b[33m...\u001b[0m                          \u001b]8;id=48241;file:///mnt/ceph/users/wkoh1/scaden/pipeline/bulk_simulator.py\u001b\\\u001b[2mbulk_simulator.py\u001b[0m\u001b]8;;\u001b\\\u001b[2m:\u001b[0m\u001b]8;id=379163;file:///mnt/ceph/users/wkoh1/scaden/pipeline/bulk_simulator.py#141\u001b\\\u001b[2m141\u001b[0m\u001b]8;;\u001b\\\n",
      "\u001b[34mINFO    \u001b[0m Merging unknown cell types: \u001b[1m[\u001b[0m\u001b[32m'unknown'\u001b[0m\u001b[1m]\u001b[0m           \u001b]8;id=122012;file:///mnt/ceph/users/wkoh1/scaden/pipeline/bulk_simulator.py\u001b\\\u001b[2mbulk_simulator.py\u001b[0m\u001b]8;;\u001b\\\u001b[2m:\u001b[0m\u001b]8;id=971453;file:///mnt/ceph/users/wkoh1/scaden/pipeline/bulk_simulator.py#107\u001b\\\u001b[2m107\u001b[0m\u001b]8;;\u001b\\\n",
      "\u001b[34mINFO    \u001b[0m Subsampling \u001b[1;36mdata\u001b[0m \u001b[33m...\u001b[0m                              \u001b]8;id=991174;file:///mnt/ceph/users/wkoh1/scaden/pipeline/bulk_simulator.py\u001b\\\u001b[2mbulk_simulator.py\u001b[0m\u001b]8;;\u001b\\\u001b[2m:\u001b[0m\u001b]8;id=642061;file:///mnt/ceph/users/wkoh1/scaden/pipeline/bulk_simulator.py#110\u001b\\\u001b[2m110\u001b[0m\u001b]8;;\u001b\\\n",
      "\u001b[2K\u001b[1;34mNormal samples\u001b[0m \u001b[1;36m0\u001b[0m \u001b[90m━━━━━━━━━━━━━━━━━━━━━━━━━━━━━━━━━━━━━━━━━━━━━━━━━━━━━━━━━━━━━━━\u001b[0m\n",
      "\u001b[2K\u001b[1A\u001b[2K\u001b[1;34mNormal samples\u001b[0m \u001b[1;36m13\u001b[0m \u001b[91m━━━━━━━━━━━━━━━━\u001b[0m\u001b[90m╺\u001b[0m\u001b[90m━━━━━━━━━━━━━━━━━━━━━━━━━━━━━━━━━━━━━━━━━━━━━\u001b[0m\n",
      "\u001b[2K\u001b[1A\u001b[2K\u001b[1;34mNormal samples\u001b[0m \u001b[1;36m25\u001b[0m \u001b[91m━━━━━━━━━━━━━━━━━━━━━━━━━━━━━━━\u001b[0m\u001b[90m╺\u001b[0m\u001b[90m━━━━━━━━━━━━━━━━━━━━━━━━━━━━━━\u001b[0m\n",
      "\u001b[2K\u001b[1A\u001b[2K\u001b[1;34mNormal samples\u001b[0m \u001b[1;36m38\u001b[0m \u001b[91m━━━━━━━━━━━━━━━━━━━━━━━━━━━━━━━━━━━━━━━━━━━━━━━\u001b[0m\u001b[90m╺\u001b[0m\u001b[90m━━━━━━━━━━━━━━\u001b[0m\n",
      "\u001b[2K\u001b[1A\u001b[2K\u001b[1;34mNormal samples\u001b[0m \u001b[1;36m50\u001b[0m \u001b[90m━━━━━━━━━━━━━━━━━━━━━━━━━━━━━━━━━━━━━━━━━━━━━━━━━━━━━━━━━━━━━━\u001b[0m\n",
      "\u001b[2K\u001b[1A\u001b[2K\u001b[1;34mNormal samples\u001b[0m \u001b[1;36m50\u001b[0m \u001b[90m━━━━━━━━━━━━━━━━━━━━━━━━━━━━━━━━━━━━━━━━━━━━━━━━━━━━━━━━━━━━━━\u001b[0m━━\u001b[0m\n",
      "\u001b[2K\u001b[1A\u001b[2K\u001b[1;34mNormal samples\u001b[0m \u001b[1;36m50\u001b[0m \u001b[90m━━━━━━━━━━━━━━━━━━━━━━━━━━━━━━━━━━━━━━━━━━━━━━━━━━━━━━━━━━━━━━\u001b[0m━━\u001b[0m\n",
      "\u001b[2K\u001b[1A\u001b[2K\u001b[1;34mNormal samples\u001b[0m \u001b[1;36m50\u001b[0m \u001b[90m━━━━━━━━━━━━━━━━━━━━━━━━━━━━━━━━━━━━━━━━━━━━━━━━━━━━━━━━━━━━━━\u001b[0m━━\u001b[0m\n",
      "\u001b[1;34mSparse samples\u001b[0m \u001b[1;36m50\u001b[0m \u001b[90m━━━━━━━━━━━━━━━━━━━━━━━━━━━━━━━━━━━━━━━━━━━━━━━━━━━━━━━━━━━━━━\u001b[0m\n",
      "\u001b[?25h/mnt/home/wkoh1/venv/scaden/lib/python3.9/site-packages/anndata/_core/anndata.py:121: ImplicitModificationWarning: Transforming to str index.\n",
      "  warnings.warn(\"Transforming to str index.\", ImplicitModificationWarning)\n",
      "... storing 'ds' as categorical\n",
      "\u001b[34mINFO    \u001b[0m \u001b[1;32mFinished data simulation!\u001b[0m                          \u001b]8;id=892903;file:///mnt/ceph/users/wkoh1/scaden/pipeline/bulk_simulator.py\u001b\\\u001b[2mbulk_simulator.py\u001b[0m\u001b]8;;\u001b\\\u001b[2m:\u001b[0m\u001b]8;id=658619;file:///mnt/ceph/users/wkoh1/scaden/pipeline/bulk_simulator.py#92\u001b\\\u001b[2m92\u001b[0m\u001b]8;;\u001b\\\n",
      "\u001b[34mINFO    \u001b[0m Merging datasets:                                 \u001b]8;id=391534;file:///mnt/ceph/users/wkoh1/scaden/pipeline/bulk_simulator.py\u001b\\\u001b[2mbulk_simulator.py\u001b[0m\u001b]8;;\u001b\\\u001b[2m:\u001b[0m\u001b]8;id=366352;file:///mnt/ceph/users/wkoh1/scaden/pipeline/bulk_simulator.py#327\u001b\\\u001b[2m327\u001b[0m\u001b]8;;\u001b\\\n",
      "         \u001b[1m[\u001b[0m\u001b[32m'/mnt/home/wkoh1/example/data.h5ad'\u001b[0m\u001b[1m]\u001b[0m into        \u001b[2m                     \u001b[0m\n",
      "         \u001b[1;36mexample_data.h5ad\u001b[0m                                 \u001b[2m                     \u001b[0m\n",
      "\u001b[34mINFO    \u001b[0m Pre-processing raw data \u001b[33m...\u001b[0m                               \u001b]8;id=847193;file:///mnt/ceph/users/wkoh1/scaden/pipeline/process.py\u001b\\\u001b[2mprocess.py\u001b[0m\u001b]8;;\u001b\\\u001b[2m:\u001b[0m\u001b]8;id=670595;file:///mnt/ceph/users/wkoh1/scaden/pipeline/process.py#56\u001b\\\u001b[2m56\u001b[0m\u001b]8;;\u001b\\\n",
      "\u001b[34mINFO    \u001b[0m Subsetting genes \u001b[33m...\u001b[0m                                      \u001b]8;id=616156;file:///mnt/ceph/users/wkoh1/scaden/pipeline/process.py\u001b\\\u001b[2mprocess.py\u001b[0m\u001b]8;;\u001b\\\u001b[2m:\u001b[0m\u001b]8;id=511642;file:///mnt/ceph/users/wkoh1/scaden/pipeline/process.py#60\u001b\\\u001b[2m60\u001b[0m\u001b]8;;\u001b\\\n",
      "\u001b[34mINFO    \u001b[0m Scaling using frac                                        \u001b]8;id=508688;file:///mnt/ceph/users/wkoh1/scaden/pipeline/process.py\u001b\\\u001b[2mprocess.py\u001b[0m\u001b]8;;\u001b\\\u001b[2m:\u001b[0m\u001b]8;id=55126;file:///mnt/ceph/users/wkoh1/scaden/pipeline/process.py#64\u001b\\\u001b[2m64\u001b[0m\u001b]8;;\u001b\\\n",
      "\u001b[34mINFO    \u001b[0m Writing to disk \u001b[33m...\u001b[0m                                       \u001b]8;id=9767;file:///mnt/ceph/users/wkoh1/scaden/pipeline/process.py\u001b\\\u001b[2mprocess.py\u001b[0m\u001b]8;;\u001b\\\u001b[2m:\u001b[0m\u001b]8;id=509458;file:///mnt/ceph/users/wkoh1/scaden/pipeline/process.py#73\u001b\\\u001b[2m73\u001b[0m\u001b]8;;\u001b\\\n",
      "\u001b[34mINFO    \u001b[0m Data pre-processing done.                                 \u001b]8;id=579936;file:///mnt/ceph/users/wkoh1/scaden/pipeline/process.py\u001b\\\u001b[2mprocess.py\u001b[0m\u001b]8;;\u001b\\\u001b[2m:\u001b[0m\u001b]8;id=954389;file:///mnt/ceph/users/wkoh1/scaden/pipeline/process.py#75\u001b\\\u001b[2m75\u001b[0m\u001b]8;;\u001b\\\n",
      "\u001b[34mINFO    \u001b[0m Created processed file:                                   \u001b]8;id=498391;file:///mnt/ceph/users/wkoh1/scaden/pipeline/process.py\u001b\\\u001b[2mprocess.py\u001b[0m\u001b]8;;\u001b\\\u001b[2m:\u001b[0m\u001b]8;id=984360;file:///mnt/ceph/users/wkoh1/scaden/pipeline/process.py#76\u001b\\\u001b[2m76\u001b[0m\u001b]8;;\u001b\\\n",
      "         \u001b[35m/mnt/home/wkoh1/example/\u001b[0m\u001b[95mprocessed.h5ad\u001b[0m                    \u001b[2m             \u001b[0m\n",
      "\u001b[34mINFO    \u001b[0m \u001b[36mTraining M256 Model \u001b[0m\u001b[33m...\u001b[0m\u001b[36m \u001b[0m                                    \u001b]8;id=720397;file:///mnt/ceph/users/wkoh1/scaden/pipeline/train.py\u001b\\\u001b[2mtrain.py\u001b[0m\u001b]8;;\u001b\\\u001b[2m:\u001b[0m\u001b]8;id=1188;file:///mnt/ceph/users/wkoh1/scaden/pipeline/train.py#58\u001b\\\u001b[2m58\u001b[0m\u001b]8;;\u001b\\\n",
      "2023-04-04 12:43:03.175364: E tensorflow/compiler/xla/stream_executor/cuda/cuda_driver.cc:267] failed call to cuInit: CUDA_ERROR_NO_DEVICE: no CUDA-capable device is detected\n",
      "\u001b[2K\u001b[1;34mm256\u001b[0m \u001b[1;36mStep: 99, Loss: 0.0043\u001b[0m \u001b[90m━━━━━━━━━━━━━━━━━━━━━━━━━━━━━━━━━━━━━━━━━━━━━━━━━━━━\u001b[0m91m╸\u001b[0m\u001b[90m━\u001b[0m\n",
      "\u001b[?25h\u001b[31mWARNING \u001b[0m Compiled the loaded model, but the compiled metrics \u001b]8;id=460860;file:///mnt/home/wkoh1/venv/scaden/lib/python3.9/site-packages/keras/saving/legacy/saving_utils.py\u001b\\\u001b[2msaving_utils.py\u001b[0m\u001b]8;;\u001b\\\u001b[2m:\u001b[0m\u001b]8;id=656388;file:///mnt/home/wkoh1/venv/scaden/lib/python3.9/site-packages/keras/saving/legacy/saving_utils.py#359\u001b\\\u001b[2m359\u001b[0m\u001b]8;;\u001b\\\n",
      "         have yet to be built. `model.compile_metrics` will  \u001b[2m                   \u001b[0m\n",
      "         be empty until you train or evaluate the model.     \u001b[2m                   \u001b[0m\n",
      "\u001b[34mINFO    \u001b[0m Assets written to:                                  \u001b]8;id=473750;file:///mnt/home/wkoh1/venv/scaden/lib/python3.9/site-packages/tensorflow/python/saved_model/builder_impl.py\u001b\\\u001b[2mbuilder_impl.py\u001b[0m\u001b]8;;\u001b\\\u001b[2m:\u001b[0m\u001b]8;id=947604;file:///mnt/home/wkoh1/venv/scaden/lib/python3.9/site-packages/tensorflow/python/saved_model/builder_impl.py#797\u001b\\\u001b[2m797\u001b[0m\u001b]8;;\u001b\\\n",
      "         \u001b[35m/mnt/home/wkoh1/example/model/\u001b[0m\u001b[35m/m256/\u001b[0m\u001b[95massets\u001b[0m          \u001b[2m                   \u001b[0m\n",
      "\u001b[34mINFO    \u001b[0m \u001b[36mTraining M512 Model \u001b[0m\u001b[33m...\u001b[0m\u001b[36m \u001b[0m                                    \u001b]8;id=302284;file:///mnt/ceph/users/wkoh1/scaden/pipeline/train.py\u001b\\\u001b[2mtrain.py\u001b[0m\u001b]8;;\u001b\\\u001b[2m:\u001b[0m\u001b]8;id=270701;file:///mnt/ceph/users/wkoh1/scaden/pipeline/train.py#74\u001b\\\u001b[2m74\u001b[0m\u001b]8;;\u001b\\\n",
      "\u001b[2K\u001b[1;34mm512\u001b[0m \u001b[1;36mStep: 99, Loss: 0.0042\u001b[0m \u001b[90m━━━━━━━━━━━━━━━━━━━━━━━━━━━━━━━━━━━━━━━━━━━━━━━━━━━━\u001b[0m[90m╺\u001b[0m90m━━\u001b[0m\n",
      "\u001b[?25h\u001b[31mWARNING \u001b[0m Compiled the loaded model, but the compiled metrics \u001b]8;id=21607;file:///mnt/home/wkoh1/venv/scaden/lib/python3.9/site-packages/keras/saving/legacy/saving_utils.py\u001b\\\u001b[2msaving_utils.py\u001b[0m\u001b]8;;\u001b\\\u001b[2m:\u001b[0m\u001b]8;id=164218;file:///mnt/home/wkoh1/venv/scaden/lib/python3.9/site-packages/keras/saving/legacy/saving_utils.py#359\u001b\\\u001b[2m359\u001b[0m\u001b]8;;\u001b\\\n",
      "         have yet to be built. `model.compile_metrics` will  \u001b[2m                   \u001b[0m\n",
      "         be empty until you train or evaluate the model.     \u001b[2m                   \u001b[0m\n",
      "\u001b[34mINFO    \u001b[0m Assets written to:                                  \u001b]8;id=340632;file:///mnt/home/wkoh1/venv/scaden/lib/python3.9/site-packages/tensorflow/python/saved_model/builder_impl.py\u001b\\\u001b[2mbuilder_impl.py\u001b[0m\u001b]8;;\u001b\\\u001b[2m:\u001b[0m\u001b]8;id=82494;file:///mnt/home/wkoh1/venv/scaden/lib/python3.9/site-packages/tensorflow/python/saved_model/builder_impl.py#797\u001b\\\u001b[2m797\u001b[0m\u001b]8;;\u001b\\\n",
      "         \u001b[35m/mnt/home/wkoh1/example/model/\u001b[0m\u001b[35m/m512/\u001b[0m\u001b[95massets\u001b[0m          \u001b[2m                   \u001b[0m\n",
      "\u001b[34mINFO    \u001b[0m \u001b[36mTraining M1024 Model \u001b[0m\u001b[33m...\u001b[0m\u001b[36m \u001b[0m                                   \u001b]8;id=763792;file:///mnt/ceph/users/wkoh1/scaden/pipeline/train.py\u001b\\\u001b[2mtrain.py\u001b[0m\u001b]8;;\u001b\\\u001b[2m:\u001b[0m\u001b]8;id=33679;file:///mnt/ceph/users/wkoh1/scaden/pipeline/train.py#90\u001b\\\u001b[2m90\u001b[0m\u001b]8;;\u001b\\\n",
      "\u001b[2K\u001b[1;34mm1024\u001b[0m \u001b[1;36mStep: 99, Loss: 0.0041\u001b[0m \u001b[90m━━━━━━━━━━━━━━━━━━━━━━━━━━━━━━━━━━━━━━━━━━━━━━━━━━━\u001b[0m91m╸\u001b[0m\u001b[90m━\u001b[0m\n",
      "\u001b[?25h\u001b[31mWARNING \u001b[0m Compiled the loaded model, but the compiled metrics \u001b]8;id=451088;file:///mnt/home/wkoh1/venv/scaden/lib/python3.9/site-packages/keras/saving/legacy/saving_utils.py\u001b\\\u001b[2msaving_utils.py\u001b[0m\u001b]8;;\u001b\\\u001b[2m:\u001b[0m\u001b]8;id=61894;file:///mnt/home/wkoh1/venv/scaden/lib/python3.9/site-packages/keras/saving/legacy/saving_utils.py#359\u001b\\\u001b[2m359\u001b[0m\u001b]8;;\u001b\\\n",
      "         have yet to be built. `model.compile_metrics` will  \u001b[2m                   \u001b[0m\n",
      "         be empty until you train or evaluate the model.     \u001b[2m                   \u001b[0m\n",
      "\u001b[34mINFO    \u001b[0m Assets written to:                                  \u001b]8;id=508438;file:///mnt/home/wkoh1/venv/scaden/lib/python3.9/site-packages/tensorflow/python/saved_model/builder_impl.py\u001b\\\u001b[2mbuilder_impl.py\u001b[0m\u001b]8;;\u001b\\\u001b[2m:\u001b[0m\u001b]8;id=611906;file:///mnt/home/wkoh1/venv/scaden/lib/python3.9/site-packages/tensorflow/python/saved_model/builder_impl.py#797\u001b\\\u001b[2m797\u001b[0m\u001b]8;;\u001b\\\n",
      "         \u001b[35m/mnt/home/wkoh1/example/model/\u001b[0m\u001b[35m/m1024/\u001b[0m\u001b[95massets\u001b[0m         \u001b[2m                   \u001b[0m\n",
      "\u001b[34mINFO    \u001b[0m \u001b[32mTraining finished.\u001b[0m                                         \u001b]8;id=466681;file:///mnt/ceph/users/wkoh1/scaden/pipeline/train.py\u001b\\\u001b[2mtrain.py\u001b[0m\u001b]8;;\u001b\\\u001b[2m:\u001b[0m\u001b]8;id=958955;file:///mnt/ceph/users/wkoh1/scaden/pipeline/train.py#105\u001b\\\u001b[2m105\u001b[0m\u001b]8;;\u001b\\\n",
      "\u001b[34mINFO    \u001b[0m Loss values written to:                                    \u001b]8;id=751491;file:///mnt/ceph/users/wkoh1/scaden/pipeline/train.py\u001b\\\u001b[2mtrain.py\u001b[0m\u001b]8;;\u001b\\\u001b[2m:\u001b[0m\u001b]8;id=191413;file:///mnt/ceph/users/wkoh1/scaden/pipeline/train.py#113\u001b\\\u001b[2m113\u001b[0m\u001b]8;;\u001b\\\n",
      "         \u001b[35m/mnt/home/wkoh1/example/\u001b[0m\u001b[95mloss_values.tsv\u001b[0m                    \u001b[2m            \u001b[0m\n",
      "\u001b[34mINFO    \u001b[0m Loss curve saved to:                                       \u001b]8;id=764680;file:///mnt/ceph/users/wkoh1/scaden/pipeline/train.py\u001b\\\u001b[2mtrain.py\u001b[0m\u001b]8;;\u001b\\\u001b[2m:\u001b[0m\u001b]8;id=899222;file:///mnt/ceph/users/wkoh1/scaden/pipeline/train.py#122\u001b\\\u001b[2m122\u001b[0m\u001b]8;;\u001b\\\n",
      "         \u001b[35m/mnt/home/wkoh1/example/\u001b[0m\u001b[95mloss_curve.png\u001b[0m                     \u001b[2m            \u001b[0m\n",
      "\u001b[34mINFO    \u001b[0m \u001b[1mTraining time: \u001b[0m\u001b[1;36m21.266\u001b[0m                                       \u001b]8;id=453635;file:///mnt/home/wkoh1/ceph/scaden/pipeline/main.py\u001b\\\u001b[2mmain.py\u001b[0m\u001b]8;;\u001b\\\u001b[2m:\u001b[0m\u001b]8;id=571549;file:///mnt/home/wkoh1/ceph/scaden/pipeline/main.py#248\u001b\\\u001b[2m248\u001b[0m\u001b]8;;\u001b\\\n",
      "\u001b[34mINFO    \u001b[0m \u001b[1mCreated config file: \u001b[0m                                       \u001b]8;id=649508;file:///mnt/home/wkoh1/ceph/scaden/pipeline/main.py\u001b\\\u001b[2mmain.py\u001b[0m\u001b]8;;\u001b\\\u001b[2m:\u001b[0m\u001b]8;id=908511;file:///mnt/home/wkoh1/ceph/scaden/pipeline/main.py#270\u001b\\\u001b[2m270\u001b[0m\u001b]8;;\u001b\\\n",
      "         \u001b[1;35m/mnt/home/wkoh1/example/\u001b[0m\u001b[1;95mconfig_example.json\u001b[0m                 \u001b[2m           \u001b[0m\n",
      "\u001b[34mINFO    \u001b[0m Loaded pre-trained model: \u001b[36mm256\u001b[0m                      \u001b]8;id=498406;file:///mnt/ceph/users/wkoh1/scaden/pipeline/class_scaden.py\u001b\\\u001b[2mclass_scaden.py\u001b[0m\u001b]8;;\u001b\\\u001b[2m:\u001b[0m\u001b]8;id=328536;file:///mnt/ceph/users/wkoh1/scaden/pipeline/class_scaden.py#309\u001b\\\u001b[2m309\u001b[0m\u001b]8;;\u001b\\\n",
      "1/1 [==============================] - 0s 112ms/step\n",
      "\u001b[34mINFO    \u001b[0m Loaded pre-trained model: \u001b[36mm512\u001b[0m                      \u001b]8;id=502329;file:///mnt/ceph/users/wkoh1/scaden/pipeline/class_scaden.py\u001b\\\u001b[2mclass_scaden.py\u001b[0m\u001b]8;;\u001b\\\u001b[2m:\u001b[0m\u001b]8;id=427250;file:///mnt/ceph/users/wkoh1/scaden/pipeline/class_scaden.py#309\u001b\\\u001b[2m309\u001b[0m\u001b]8;;\u001b\\\n",
      "1/1 [==============================] - 0s 63ms/step\n",
      "\u001b[34mINFO    \u001b[0m Loaded pre-trained model: \u001b[36mm1024\u001b[0m                     \u001b]8;id=152851;file:///mnt/ceph/users/wkoh1/scaden/pipeline/class_scaden.py\u001b\\\u001b[2mclass_scaden.py\u001b[0m\u001b]8;;\u001b\\\u001b[2m:\u001b[0m\u001b]8;id=112699;file:///mnt/ceph/users/wkoh1/scaden/pipeline/class_scaden.py#309\u001b\\\u001b[2m309\u001b[0m\u001b]8;;\u001b\\\n",
      "1/1 [==============================] - 0s 71ms/step\n",
      "\u001b[34mINFO    \u001b[0m \u001b[1mCreated cell composition predictions: \u001b[0m                    \u001b]8;id=132028;file:///mnt/ceph/users/wkoh1/scaden/pipeline/predict.py\u001b\\\u001b[2mpredict.py\u001b[0m\u001b]8;;\u001b\\\u001b[2m:\u001b[0m\u001b]8;id=336562;file:///mnt/ceph/users/wkoh1/scaden/pipeline/predict.py#98\u001b\\\u001b[2m98\u001b[0m\u001b]8;;\u001b\\\n",
      "         \u001b[1;35m/mnt/home/wkoh1/example/\u001b[0m\u001b[1;95mtest_predictions.txt\u001b[0m              \u001b[2m             \u001b[0m\n",
      "\u001b[34mINFO    \u001b[0m Evaluating predictions \u001b[33m...\u001b[0m                               \u001b]8;id=282882;file:///mnt/ceph/users/wkoh1/scaden/pipeline/evaluate.py\u001b\\\u001b[2mevaluate.py\u001b[0m\u001b]8;;\u001b\\\u001b[2m:\u001b[0m\u001b]8;id=731648;file:///mnt/ceph/users/wkoh1/scaden/pipeline/evaluate.py#97\u001b\\\u001b[2m97\u001b[0m\u001b]8;;\u001b\\\n",
      "\u001b[34mINFO    \u001b[0m \u001b[1mCreated evaluation results: \u001b[0m                            \u001b]8;id=110598;file:///mnt/ceph/users/wkoh1/scaden/pipeline/evaluate.py\u001b\\\u001b[2mevaluate.py\u001b[0m\u001b]8;;\u001b\\\u001b[2m:\u001b[0m\u001b]8;id=456346;file:///mnt/ceph/users/wkoh1/scaden/pipeline/evaluate.py#107\u001b\\\u001b[2m107\u001b[0m\u001b]8;;\u001b\\\n",
      "         \u001b[1;35m/mnt/home/wkoh1/example/\u001b[0m\u001b[1;95mreport_example.json\u001b[0m             \u001b[2m               \u001b[0m\n"
     ]
    }
   ],
   "source": [
    "!python ~/ceph/scaden/pipeline/main.py \\\n",
    "-all \\\n",
    "--config example \\\n",
    "--reference 2 \\\n",
    "--data ~/example/ \\\n",
    "--out ~/example/ \\\n",
    "--cells 100 \\\n",
    "--n_samples 100 \\\n",
    "--prefix example_data \\\n",
    "--pred ~/example/testfile.tsv \\\n",
    "--scaling frac \\\n",
    "--var_cutoff 0 \\\n",
    "--model_dir ~/example/model/ \\\n",
    "--batch_size 256 \\\n",
    "--learning_rate 0.0001 \\\n",
    "--steps 100 \\\n",
    "--seed 100 \\\n",
    "--prediction_outname ~/example/test_predictions.txt \\\n",
    "--prediction_scaling None \\\n",
    "--ground_truth ~/example/test_proportions.tsv \\\n",
    "--loss_values ~/example/loss_values.tsv \\\n",
    "--loss_curve ~/example/loss_curve.png"
   ]
  },
  {
   "cell_type": "markdown",
   "id": "48265c19",
   "metadata": {},
   "source": [
    "## Outputs"
   ]
  },
  {
   "cell_type": "code",
   "execution_count": 8,
   "id": "efd53649-852b-43ae-b9f4-61a0be16b597",
   "metadata": {},
   "outputs": [
    {
     "name": "stdout",
     "output_type": "stream",
     "text": [
      "{\n",
      "    \"config\": \"example\",\n",
      "    \"Data\": {\n",
      "        \"cells\": 100,\n",
      "        \"n_samples\": 100,\n",
      "        \"var_cutoff\": 0.0,\n",
      "        \"scaling\": \"frac\",\n",
      "        \"reference\": \"2\"\n",
      "    },\n",
      "    \"Model\": {\n",
      "        \"seed\": 100,\n",
      "        \"steps\": 100,\n",
      "        \"batch_size\": 256,\n",
      "        \"learning_rate\": 0.0001\n",
      "    }\n",
      "}"
     ]
    }
   ],
   "source": [
    "!cat ~/example/config_example.json"
   ]
  },
  {
   "cell_type": "code",
   "execution_count": 9,
   "id": "dfcbdf42",
   "metadata": {},
   "outputs": [
    {
     "name": "stdout",
     "output_type": "stream",
     "text": [
      "\tMono\tBmem\tNeu\tEOS\tCD4nv\tTem\tNK\tTn\tBas\tCD4mem\tTreg\tBn\n",
      "GSM5527895\t0.0865855\t0.10173979\t0.08806773\t0.07528946\t0.08119241\t0.077098124\t0.08025251\t0.078073345\t0.098477505\t0.08011433\t0.073092215\t0.080017105\n",
      "GSM5527896\t0.088045\t0.0977796\t0.087595634\t0.075581826\t0.08256476\t0.07711846\t0.08031392\t0.08089427\t0.097053885\t0.081457935\t0.07327306\t0.078321606\n",
      "GSM5527897\t0.07343546\t0.09597554\t0.08018226\t0.07475484\t0.08477839\t0.08400025\t0.07942992\t0.07112505\t0.09494424\t0.10325111\t0.089984976\t0.06813795\n",
      "GSM5527898\t0.09614804\t0.09955809\t0.091527015\t0.07254585\t0.08473763\t0.07156614\t0.078658454\t0.08585406\t0.08831701\t0.06872086\t0.059778553\t0.1025883\n",
      "GSM5527899\t0.091717154\t0.094594754\t0.08747166\t0.07321742\t0.08308493\t0.07594916\t0.08534814\t0.08268269\t0.0994913\t0.079636\t0.069204666\t0.0776022\n",
      "GSM5527900\t0.10240152\t0.10394894\t0.09608363\t0.07423472\t0.079004146\t0.07121796\t0.08069784\t0.08086297\t0.094146766\t0.07040435\t0.060714338\t0.08628279\n",
      "GSM5527901\t0.105971925\t0.09967994\t0.09270212\t0.07385761\t0.08838304\t0.07337469\t0.07704828\t0.08171563\t0.088754855\t0.073004\t0.063183896\t0.08232399\n",
      "GSM5527902\t0.110226534\t0.10058376\t0.09240272\t0.0741891\t0.07702307\t0.072670646\t0.081289515\t0.08061659\t0.09101204\t0.07168087\t0.062150273\t0.086154856\n",
      "GSM5527903\t0.10106554\t0.102612115\t0.094797164\t0.07441477\t0.07948499\t0.07113472\t0.07967991\t0.07981544\t0.09027394\t0.07384327\t0.06337231\t0.089505814\n",
      "GSM5527904\t0.10110841\t0.09952704\t0.090747654\t0.07361155\t0.0873367\t0.07389744\t0.07818157\t0.08119067\t0.09337907\t0.074516185\t0.0651172\t0.081386484\n",
      "GSM5527905\t0.09132097\t0.0979949\t0.08884727\t0.0744945\t0.08449632\t0.07812333\t0.07818969\t0.07987166\t0.08783018\t0.08438759\t0.06988287\t0.08456069\n",
      "GSM5527906\t0.11036962\t0.10010171\t0.09429119\t0.07466107\t0.08785397\t0.07094782\t0.07811142\t0.08535078\t0.086919904\t0.064070545\t0.054965347\t0.0923566\n"
     ]
    }
   ],
   "source": [
    "!cat ~/example/test_predictions.txt"
   ]
  },
  {
   "cell_type": "code",
   "execution_count": 10,
   "id": "967a266a",
   "metadata": {},
   "outputs": [
    {
     "name": "stdout",
     "output_type": "stream",
     "text": [
      "{\n",
      "    \"training_time\": 21.266,\n",
      "    \"results\": {\n",
      "        \"Predictions best correlated celltype\": {\n",
      "            \"bas\": \"Bas\",\n",
      "            \"bmem\": \"EOS\",\n",
      "            \"bnv\": \"Bn\",\n",
      "            \"cd4mem\": \"CD4mem\",\n",
      "            \"cd4nv\": \"CD4nv\",\n",
      "            \"cd8mem\": \"Tem\",\n",
      "            \"cd8nv\": \"Tn\",\n",
      "            \"eos\": \"Neu\",\n",
      "            \"mono\": \"Mono\",\n",
      "            \"neu\": \"Mono\",\n",
      "            \"nk\": \"NK\",\n",
      "            \"treg\": \"Treg\"\n",
      "        },\n",
      "        \"Correlation coefficient\": {\n",
      "            \"bas\": 0.7424872703001169,\n",
      "            \"bmem\": 0.47124286949148153,\n",
      "            \"bnv\": 0.871443969810672,\n",
      "            \"cd4mem\": 0.8569879556549876,\n",
      "            \"cd4nv\": 0.7441235790294644,\n",
      "            \"cd8mem\": 0.6309649968867483,\n",
      "            \"cd8nv\": 0.7640979007906796,\n",
      "            \"eos\": 0.6749004850252602,\n",
      "            \"mono\": 0.6609318105186021,\n",
      "            \"neu\": 0.736003560298303,\n",
      "            \"nk\": 0.9059538875553854,\n",
      "            \"treg\": 0.7085854736844942\n",
      "        },\n",
      "        \"Mean squared error\": {\n",
      "            \"bas\": 0.0021098499364772378,\n",
      "            \"bmem\": 0.0007272324384565626,\n",
      "            \"bnv\": 0.0010921984838726038,\n",
      "            \"cd4mem\": 0.0018020802130826236,\n",
      "            \"cd4nv\": 0.0005252908908639769,\n",
      "            \"cd8mem\": 0.0008535815019158031,\n",
      "            \"cd8nv\": 0.0013203839602518987,\n",
      "            \"eos\": 0.0007083425130478051,\n",
      "            \"mono\": 0.0009502533113788991,\n",
      "            \"neu\": 0.001226847856968055,\n",
      "            \"nk\": 0.0025041129537769625,\n",
      "            \"treg\": 0.000764076305939253\n",
      "        }\n",
      "    }\n",
      "}"
     ]
    }
   ],
   "source": [
    "!cat ~/example/report_example.json"
   ]
  },
  {
   "cell_type": "code",
   "execution_count": 11,
   "id": "4d758133-5ee9-4899-a172-6088654ef795",
   "metadata": {},
   "outputs": [
    {
     "name": "stdout",
     "output_type": "stream",
     "text": [
      "step\tmodel\tloss\n",
      "0\tm256\t0.010674388147890568\n",
      "1\tm256\t0.010840089060366154\n",
      "2\tm256\t0.00986929889768362\n",
      "3\tm256\t0.009680739603936672\n",
      "4\tm256\t0.009842747822403908\n",
      "5\tm256\t0.010004152543842793\n",
      "6\tm256\t0.009581218473613262\n",
      "7\tm256\t0.010043677873909473\n",
      "8\tm256\t0.009257703088223934\n"
     ]
    }
   ],
   "source": [
    "!head ~/example/loss_values.tsv"
   ]
  },
  {
   "cell_type": "code",
   "execution_count": 12,
   "id": "4bac66c4-2da6-43a6-b82b-77ba4535b7a7",
   "metadata": {},
   "outputs": [
    {
     "data": {
      "image/png": "[encoded data removed]",
      "text/plain": [
       "<IPython.core.display.Image object>"
      ]
     },
     "execution_count": 12,
     "metadata": {},
     "output_type": "execute_result"
    }
   ],
   "source": [
    "from IPython.display import Image\n",
    "Image(\"/mnt/home/wkoh1/example/loss_curve.png\")"
   ]
  },
  {
   "cell_type": "markdown",
   "id": "c7e500b9-b746-4fbb-965e-db14ce434ef9",
   "metadata": {},
   "source": [
    "# Running individual scaden commands"
   ]
  },
  {
   "attachments": {},
   "cell_type": "markdown",
   "id": "bf0a28cc-5fed-4492-90c3-a108fa3e845f",
   "metadata": {},
   "source": [
    "If we don't want to run all 5 steps of the pipeline, we should add one or more of the following flags:\n",
    "- `-simulate`\n",
    "- `-process`\n",
    "- `-train`\n",
    "- `-predict`\n",
    "- `-evaluate`\n",
    "\n",
    "Run the program the same way, e.g.:\n",
    "\n",
    "`python main.py -load params_predict.yaml` \n",
    "\n",
    "\n",
    "params_predict.yaml:\n",
    "```\n",
    "predict: True\n",
    "pred: ~/example/testfile.tsv\n",
    "model_dir: ~/example/model/\n",
    "prediction_outname: ~/example/test_predictions.txt\n",
    "prediction_scaling: None\n",
    "```\n",
    "\n",
    "Note: `scaden merge` and `scaden example` are not available."
   ]
  },
  {
   "attachments": {},
   "cell_type": "markdown",
   "id": "3ecae113",
   "metadata": {},
   "source": [
    "## Required parameters for each step"
   ]
  },
  {
   "attachments": {},
   "cell_type": "markdown",
   "id": "7160ee47",
   "metadata": {},
   "source": [
    "These args should be provided if using individual commands.\n",
    "\n",
    "Simulate\n",
    "- `out`: Directory to store output files in.\n",
    "- `data`: Path to scRNA-seq dataset(s)\n",
    "\n",
    "Process\n",
    "- `pred`: Bulk data file that we want to perform deconvolution on.\n",
    "- `training_data`: Training dataset to be processed, generated by the simulate step.\n",
    "- `processed_path`: Name of the file that the processed data will be saved to. Must end with .h5ad\n",
    "\n",
    "Train\n",
    "- `processed_path`: Name of file containing the data that will be used for training.\n",
    "- `model_dir`: Path to store trained model.\n",
    "\n",
    "Predict\n",
    "- `pred`: Bulk data file that we want to perform deconvolution on.\n",
    "- `model_dir`: Path to trained model.\n"
   ]
  }
 ],
 "metadata": {
  "kernelspec": {
   "display_name": "scaden",
   "language": "python",
   "name": "scaden"
  },
  "language_info": {
   "codemirror_mode": {
    "name": "ipython",
    "version": 3
   },
   "file_extension": ".py",
   "mimetype": "text/x-python",
   "name": "python",
   "nbconvert_exporter": "python",
   "pygments_lexer": "ipython3",
   "version": "3.9.12"
  }
 },
 "nbformat": 4,
 "nbformat_minor": 5
}
